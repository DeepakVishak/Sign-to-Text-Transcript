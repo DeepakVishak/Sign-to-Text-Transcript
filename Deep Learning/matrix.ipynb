{
 "cells": [
  {
   "cell_type": "code",
   "execution_count": 1,
   "id": "9937ff9c",
   "metadata": {},
   "outputs": [],
   "source": [
    "import numpy as np"
   ]
  },
  {
   "cell_type": "code",
   "execution_count": 3,
   "id": "6af8847b",
   "metadata": {},
   "outputs": [],
   "source": [
    "companies=np.array([[200,220,250],[68,79,105],[110,140,180],[80,85,90]])"
   ]
  },
  {
   "cell_type": "code",
   "execution_count": 4,
   "id": "70584688",
   "metadata": {},
   "outputs": [
    {
     "data": {
      "text/plain": [
       "array([[200, 220, 250],\n",
       "       [ 68,  79, 105],\n",
       "       [110, 140, 180],\n",
       "       [ 80,  85,  90]])"
      ]
     },
     "execution_count": 4,
     "metadata": {},
     "output_type": "execute_result"
    }
   ],
   "source": [
    "companies"
   ]
  },
  {
   "cell_type": "code",
   "execution_count": 7,
   "id": "f36ca383",
   "metadata": {},
   "outputs": [],
   "source": [
    "companies_inr=companies*75"
   ]
  },
  {
   "cell_type": "code",
   "execution_count": 8,
   "id": "0885e65d",
   "metadata": {},
   "outputs": [
    {
     "data": {
      "text/plain": [
       "array([[15000, 16500, 18750],\n",
       "       [ 5100,  5925,  7875],\n",
       "       [ 8250, 10500, 13500],\n",
       "       [ 6000,  6375,  6750]])"
      ]
     },
     "execution_count": 8,
     "metadata": {},
     "output_type": "execute_result"
    }
   ],
   "source": [
    "companies_inr"
   ]
  },
  {
   "cell_type": "code",
   "execution_count": 9,
   "id": "0a0878b3",
   "metadata": {},
   "outputs": [],
   "source": [
    "ppu=np.array([[20,30,15]])"
   ]
  },
  {
   "cell_type": "code",
   "execution_count": 10,
   "id": "f26c9cbf",
   "metadata": {},
   "outputs": [
    {
     "data": {
      "text/plain": [
       "array([[20, 30, 15]])"
      ]
     },
     "execution_count": 10,
     "metadata": {},
     "output_type": "execute_result"
    }
   ],
   "source": [
    "ppu"
   ]
  },
  {
   "cell_type": "code",
   "execution_count": 11,
   "id": "dd308cb0",
   "metadata": {},
   "outputs": [],
   "source": [
    "sold=np.array([[50,60,25],[10,13,5],[40,70,52]])"
   ]
  },
  {
   "cell_type": "code",
   "execution_count": 12,
   "id": "2d142311",
   "metadata": {},
   "outputs": [],
   "source": []
  },
  {
   "cell_type": "code",
   "execution_count": 13,
   "id": "c945204b",
   "metadata": {},
   "outputs": [
    {
     "data": {
      "text/plain": [
       "array([[1000, 1800,  375],\n",
       "       [ 200,  390,   75],\n",
       "       [ 800, 2100,  780]])"
      ]
     },
     "execution_count": 13,
     "metadata": {},
     "output_type": "execute_result"
    }
   ],
   "source": [
    "r"
   ]
  },
  {
   "cell_type": "code",
   "execution_count": null,
   "id": "db0691b7",
   "metadata": {},
   "outputs": [],
   "source": []
  }
 ],
 "metadata": {
  "kernelspec": {
   "display_name": "Python 3 (ipykernel)",
   "language": "python",
   "name": "python3"
  },
  "language_info": {
   "codemirror_mode": {
    "name": "ipython",
    "version": 3
   },
   "file_extension": ".py",
   "mimetype": "text/x-python",
   "name": "python",
   "nbconvert_exporter": "python",
   "pygments_lexer": "ipython3",
   "version": "3.9.12"
  }
 },
 "nbformat": 4,
 "nbformat_minor": 5
}
